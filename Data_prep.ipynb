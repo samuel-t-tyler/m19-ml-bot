{
  "nbformat": 4,
  "nbformat_minor": 0,
  "metadata": {
    "kernelspec": {
      "display_name": "Python 3",
      "language": "python",
      "name": "python3"
    },
    "language_info": {
      "codemirror_mode": {
        "name": "ipython",
        "version": 3
      },
      "file_extension": ".py",
      "mimetype": "text/x-python",
      "name": "python",
      "nbconvert_exporter": "python",
      "pygments_lexer": "ipython3",
      "version": "3.8.5"
    },
    "colab": {
      "name": "Data_prep.ipynb",
      "provenance": [],
      "toc_visible": true,
      "include_colab_link": true
    }
  },
  "cells": [
    {
      "cell_type": "markdown",
      "metadata": {
        "id": "view-in-github",
        "colab_type": "text"
      },
      "source": [
        "<a href=\"https://colab.research.google.com/github/thesamasaurus/m19-ml-bot/blob/main/Data_prep.ipynb\" target=\"_parent\"><img src=\"https://colab.research.google.com/assets/colab-badge.svg\" alt=\"Open In Colab\"/></a>"
      ]
    },
    {
      "cell_type": "markdown",
      "metadata": {
        "id": "urWwW_j99mQp"
      },
      "source": [
        "# Data prep for deeplearning on MTG draftsim drafts"
      ]
    },
    {
      "cell_type": "markdown",
      "metadata": {
        "id": "rMxLa0rV9mQr"
      },
      "source": [
        "## Importing modules"
      ]
    },
    {
      "cell_type": "code",
      "metadata": {
        "id": "S64ZnMYN9mQr"
      },
      "source": [
        "import os\n",
        "import re\n",
        "import pandas as pd\n",
        "import copy\n",
        "import numpy as np\n",
        "import pickle"
      ],
      "execution_count": null,
      "outputs": []
    },
    {
      "cell_type": "code",
      "metadata": {
        "id": "CPgEaRgGByc6"
      },
      "source": [
        "from google.colab import drive"
      ],
      "execution_count": null,
      "outputs": []
    },
    {
      "cell_type": "code",
      "metadata": {
        "colab": {
          "base_uri": "https://localhost:8080/"
        },
        "id": "yfuwy36NB2Dg",
        "outputId": "d08495de-7244-4c9f-c18c-e77637f59fca"
      },
      "source": [
        "drive.mount('/content/gdrive')"
      ],
      "execution_count": null,
      "outputs": [
        {
          "output_type": "stream",
          "text": [
            "Drive already mounted at /content/gdrive; to attempt to forcibly remount, call drive.mount(\"/content/gdrive\", force_remount=True).\n"
          ],
          "name": "stdout"
        }
      ]
    },
    {
      "cell_type": "markdown",
      "metadata": {
        "id": "0p1PW8pd9mQs"
      },
      "source": [
        "## Importing list of all card names"
      ]
    },
    {
      "cell_type": "markdown",
      "metadata": {
        "id": "Esxmsw3n9mQs"
      },
      "source": [
        "#### card names are split between two files, lands and spells, we need to import them both"
      ]
    },
    {
      "cell_type": "code",
      "metadata": {
        "id": "-yCtfYt19mQt",
        "colab": {
          "base_uri": "https://localhost:8080/",
          "height": 118
        },
        "outputId": "5f7944ef-4af8-4167-8004-89a16f3d1b1b"
      },
      "source": [
        "data_folder = \"/content/gdrive/MyDrive/Colab Notebooks/m19_drafts/m19_drafts\"\n",
        "display(os.listdir(data_folder))"
      ],
      "execution_count": null,
      "outputs": [
        {
          "output_type": "display_data",
          "data": {
            "text/plain": [
              "['m19_land_rating.tsv',\n",
              " 'm19_rating.tsv',\n",
              " 'LICENSE.txt',\n",
              " 'README.txt',\n",
              " 'test.csv',\n",
              " 'train.csv']"
            ]
          },
          "metadata": {
            "tags": []
          }
        }
      ]
    },
    {
      "cell_type": "code",
      "metadata": {
        "id": "HAs6pQJL9mQt"
      },
      "source": [
        "cur_set = pd.read_csv(\"/content/gdrive/MyDrive/Colab Notebooks/m19_drafts/m19_drafts/m19_rating.tsv\", delimiter=\"\\t\")"
      ],
      "execution_count": null,
      "outputs": []
    },
    {
      "cell_type": "code",
      "metadata": {
        "id": "b1k36po09mQt",
        "colab": {
          "base_uri": "https://localhost:8080/",
          "height": 195
        },
        "outputId": "b0ee10c7-8491-452b-f953-62d8beb7f6d7"
      },
      "source": [
        "cur_set.head()"
      ],
      "execution_count": null,
      "outputs": [
        {
          "output_type": "execute_result",
          "data": {
            "text/html": [
              "<div>\n",
              "<style scoped>\n",
              "    .dataframe tbody tr th:only-of-type {\n",
              "        vertical-align: middle;\n",
              "    }\n",
              "\n",
              "    .dataframe tbody tr th {\n",
              "        vertical-align: top;\n",
              "    }\n",
              "\n",
              "    .dataframe thead th {\n",
              "        text-align: right;\n",
              "    }\n",
              "</style>\n",
              "<table border=\"1\" class=\"dataframe\">\n",
              "  <thead>\n",
              "    <tr style=\"text-align: right;\">\n",
              "      <th></th>\n",
              "      <th>Name</th>\n",
              "      <th>Casting Cost 1</th>\n",
              "      <th>Casting Cost 2</th>\n",
              "      <th>Card Type</th>\n",
              "      <th>Rarity</th>\n",
              "      <th>Rating</th>\n",
              "    </tr>\n",
              "  </thead>\n",
              "  <tbody>\n",
              "    <tr>\n",
              "      <th>0</th>\n",
              "      <td>Crucible_of_Worlds</td>\n",
              "      <td>3</td>\n",
              "      <td>none</td>\n",
              "      <td>Spell</td>\n",
              "      <td>M</td>\n",
              "      <td>1.5</td>\n",
              "    </tr>\n",
              "    <tr>\n",
              "      <th>1</th>\n",
              "      <td>Nicol_Bolas,_the_Ravager</td>\n",
              "      <td>1UBR</td>\n",
              "      <td>none</td>\n",
              "      <td>Creature</td>\n",
              "      <td>M</td>\n",
              "      <td>4.6</td>\n",
              "    </tr>\n",
              "    <tr>\n",
              "      <th>2</th>\n",
              "      <td>Scapeshift</td>\n",
              "      <td>2GG</td>\n",
              "      <td>none</td>\n",
              "      <td>Spell</td>\n",
              "      <td>M</td>\n",
              "      <td>1.5</td>\n",
              "    </tr>\n",
              "    <tr>\n",
              "      <th>3</th>\n",
              "      <td>Sarkhan,_Fireblood</td>\n",
              "      <td>1RR</td>\n",
              "      <td>none</td>\n",
              "      <td>Planeswalker</td>\n",
              "      <td>M</td>\n",
              "      <td>3.3</td>\n",
              "    </tr>\n",
              "    <tr>\n",
              "      <th>4</th>\n",
              "      <td>Resplendent_Angel</td>\n",
              "      <td>1WW</td>\n",
              "      <td>none</td>\n",
              "      <td>Creature</td>\n",
              "      <td>M</td>\n",
              "      <td>4.3</td>\n",
              "    </tr>\n",
              "  </tbody>\n",
              "</table>\n",
              "</div>"
            ],
            "text/plain": [
              "                       Name Casting Cost 1  ... Rarity Rating\n",
              "0        Crucible_of_Worlds              3  ...      M    1.5\n",
              "1  Nicol_Bolas,_the_Ravager           1UBR  ...      M    4.6\n",
              "2                Scapeshift            2GG  ...      M    1.5\n",
              "3        Sarkhan,_Fireblood            1RR  ...      M    3.3\n",
              "4         Resplendent_Angel            1WW  ...      M    4.3\n",
              "\n",
              "[5 rows x 6 columns]"
            ]
          },
          "metadata": {
            "tags": []
          },
          "execution_count": 6
        }
      ]
    },
    {
      "cell_type": "code",
      "metadata": {
        "id": "pl-28xbj9mQt"
      },
      "source": [
        "cur_set_lands = pd.read_csv(\"/content/gdrive/MyDrive/Colab Notebooks/m19_drafts/m19_drafts/m19_land_rating.tsv\", delimiter=\"\\t\")"
      ],
      "execution_count": null,
      "outputs": []
    },
    {
      "cell_type": "code",
      "metadata": {
        "id": "b7k7S-II9mQu",
        "colab": {
          "base_uri": "https://localhost:8080/",
          "height": 195
        },
        "outputId": "62b1e587-3d3a-4bc7-bdb1-a5ece47297f6"
      },
      "source": [
        "cur_set_lands.head()"
      ],
      "execution_count": null,
      "outputs": [
        {
          "output_type": "execute_result",
          "data": {
            "text/html": [
              "<div>\n",
              "<style scoped>\n",
              "    .dataframe tbody tr th:only-of-type {\n",
              "        vertical-align: middle;\n",
              "    }\n",
              "\n",
              "    .dataframe tbody tr th {\n",
              "        vertical-align: top;\n",
              "    }\n",
              "\n",
              "    .dataframe thead th {\n",
              "        text-align: right;\n",
              "    }\n",
              "</style>\n",
              "<table border=\"1\" class=\"dataframe\">\n",
              "  <thead>\n",
              "    <tr style=\"text-align: right;\">\n",
              "      <th></th>\n",
              "      <th>Name</th>\n",
              "      <th>Casting Cost 1</th>\n",
              "      <th>Casting Cost 2</th>\n",
              "      <th>Card Type</th>\n",
              "      <th>Rarity</th>\n",
              "      <th>Rating</th>\n",
              "    </tr>\n",
              "  </thead>\n",
              "  <tbody>\n",
              "    <tr>\n",
              "      <th>0</th>\n",
              "      <td>Plains</td>\n",
              "      <td>0</td>\n",
              "      <td>W</td>\n",
              "      <td>Land</td>\n",
              "      <td>C</td>\n",
              "      <td>-1.0</td>\n",
              "    </tr>\n",
              "    <tr>\n",
              "      <th>1</th>\n",
              "      <td>Plains_1</td>\n",
              "      <td>0</td>\n",
              "      <td>W</td>\n",
              "      <td>Land</td>\n",
              "      <td>C</td>\n",
              "      <td>-1.0</td>\n",
              "    </tr>\n",
              "    <tr>\n",
              "      <th>2</th>\n",
              "      <td>Plains_2</td>\n",
              "      <td>0</td>\n",
              "      <td>W</td>\n",
              "      <td>Land</td>\n",
              "      <td>C</td>\n",
              "      <td>-1.0</td>\n",
              "    </tr>\n",
              "    <tr>\n",
              "      <th>3</th>\n",
              "      <td>Plains_3</td>\n",
              "      <td>0</td>\n",
              "      <td>W</td>\n",
              "      <td>Land</td>\n",
              "      <td>C</td>\n",
              "      <td>-1.0</td>\n",
              "    </tr>\n",
              "    <tr>\n",
              "      <th>4</th>\n",
              "      <td>Plains_4</td>\n",
              "      <td>0</td>\n",
              "      <td>W</td>\n",
              "      <td>Land</td>\n",
              "      <td>C</td>\n",
              "      <td>-1.0</td>\n",
              "    </tr>\n",
              "  </tbody>\n",
              "</table>\n",
              "</div>"
            ],
            "text/plain": [
              "       Name  Casting Cost 1 Casting Cost 2 Card Type Rarity  Rating\n",
              "0    Plains               0              W      Land      C    -1.0\n",
              "1  Plains_1               0              W      Land      C    -1.0\n",
              "2  Plains_2               0              W      Land      C    -1.0\n",
              "3  Plains_3               0              W      Land      C    -1.0\n",
              "4  Plains_4               0              W      Land      C    -1.0"
            ]
          },
          "metadata": {
            "tags": []
          },
          "execution_count": 8
        }
      ]
    },
    {
      "cell_type": "markdown",
      "metadata": {
        "id": "dNjX9_x79mQu"
      },
      "source": [
        "## Defining hash table of contents for onehot encoding"
      ]
    },
    {
      "cell_type": "code",
      "metadata": {
        "id": "uoba7_XD9mQu",
        "colab": {
          "base_uri": "https://localhost:8080/"
        },
        "outputId": "29ba0751-f4c4-47e4-f024-ad3204ae1f06"
      },
      "source": [
        "all_cards_array = []\n",
        "for i in cur_set_lands[\"Name\"]:\n",
        "    all_cards_array.append(i)\n",
        "for j in cur_set[\"Name\"]:\n",
        "    all_cards_array.append(j)\n",
        "len(all_cards_array)"
      ],
      "execution_count": null,
      "outputs": [
        {
          "output_type": "execute_result",
          "data": {
            "text/plain": [
              "285"
            ]
          },
          "metadata": {
            "tags": []
          },
          "execution_count": 9
        }
      ]
    },
    {
      "cell_type": "code",
      "metadata": {
        "id": "pn7C898Z9mQu"
      },
      "source": [
        "card_index = {}\n",
        "for i in range(0, len(all_cards_array)):\n",
        "    card_index[all_cards_array[i]] = i"
      ],
      "execution_count": null,
      "outputs": []
    },
    {
      "cell_type": "code",
      "metadata": {
        "id": "_XQukYlD9mQv"
      },
      "source": [
        "card_index_inverted = {v: k for k, v in card_index.items()} #inverting the dictionary "
      ],
      "execution_count": null,
      "outputs": []
    },
    {
      "cell_type": "markdown",
      "metadata": {
        "id": "5QK1Jbie9mQv"
      },
      "source": [
        "## Importing Draft Data"
      ]
    },
    {
      "cell_type": "code",
      "metadata": {
        "id": "YmhR3EMz9mQv"
      },
      "source": [
        "drafts_train = pd.read_csv(\"/content/gdrive/MyDrive/Colab Notebooks/m19_drafts/m19_drafts/train.csv\", delimiter=',', header=1)"
      ],
      "execution_count": null,
      "outputs": []
    },
    {
      "cell_type": "code",
      "metadata": {
        "id": "ka5swxbh9mQw"
      },
      "source": [
        "drafts_test = pd.read_csv(\"/content/gdrive/MyDrive/Colab Notebooks/m19_drafts/m19_drafts/test.csv\")"
      ],
      "execution_count": null,
      "outputs": []
    },
    {
      "cell_type": "code",
      "metadata": {
        "id": "fX-N0hFh9mQw",
        "colab": {
          "base_uri": "https://localhost:8080/"
        },
        "outputId": "6a540883-88a6-4a80-ab45-ac28754c197e"
      },
      "source": [
        "print(len(drafts_train), len(drafts_test))"
      ],
      "execution_count": null,
      "outputs": [
        {
          "output_type": "stream",
          "text": [
            "86357 21589\n"
          ],
          "name": "stdout"
        }
      ]
    },
    {
      "cell_type": "code",
      "metadata": {
        "id": "i2Gl25qP9mQw"
      },
      "source": [
        "drafts_train.columns = [\"draftid\", \"set\", \"player_1\", \"player_2\", \"player_3\", \"player_4\", \"player_5\", \"player_6\", \"player_7\", \"player_8\"]"
      ],
      "execution_count": null,
      "outputs": []
    },
    {
      "cell_type": "code",
      "metadata": {
        "id": "KDs5y-oO9mQw"
      },
      "source": [
        "drafts_test.columns = [\"draftid\", \"set\", \"player_1\", \"player_2\", \"player_3\", \"player_4\", \"player_5\", \"player_6\", \"player_7\", \"player_8\"]"
      ],
      "execution_count": null,
      "outputs": []
    },
    {
      "cell_type": "code",
      "metadata": {
        "id": "CaXjnkdt9mQw",
        "colab": {
          "base_uri": "https://localhost:8080/",
          "height": 232
        },
        "outputId": "6f54b701-925c-4f24-91ff-4765e899c48c"
      },
      "source": [
        "drafts_test.head()"
      ],
      "execution_count": null,
      "outputs": [
        {
          "output_type": "execute_result",
          "data": {
            "text/html": [
              "<div>\n",
              "<style scoped>\n",
              "    .dataframe tbody tr th:only-of-type {\n",
              "        vertical-align: middle;\n",
              "    }\n",
              "\n",
              "    .dataframe tbody tr th {\n",
              "        vertical-align: top;\n",
              "    }\n",
              "\n",
              "    .dataframe thead th {\n",
              "        text-align: right;\n",
              "    }\n",
              "</style>\n",
              "<table border=\"1\" class=\"dataframe\">\n",
              "  <thead>\n",
              "    <tr style=\"text-align: right;\">\n",
              "      <th></th>\n",
              "      <th>draftid</th>\n",
              "      <th>set</th>\n",
              "      <th>player_1</th>\n",
              "      <th>player_2</th>\n",
              "      <th>player_3</th>\n",
              "      <th>player_4</th>\n",
              "      <th>player_5</th>\n",
              "      <th>player_6</th>\n",
              "      <th>player_7</th>\n",
              "      <th>player_8</th>\n",
              "    </tr>\n",
              "  </thead>\n",
              "  <tbody>\n",
              "    <tr>\n",
              "      <th>0</th>\n",
              "      <td>1312928</td>\n",
              "      <td>M19</td>\n",
              "      <td>Lena,_Selfless_Champion,Luminous_Bonds,Shock,H...</td>\n",
              "      <td>Dismissive_Pyromancer,Luminous_Bonds,Dragon_Eg...</td>\n",
              "      <td>Rabid_Bite,Declare_Dominance,Declare_Dominance...</td>\n",
              "      <td>Star-Crowned_Stag,Herald_of_Faith,Surge_Mare,G...</td>\n",
              "      <td>Lena,_Selfless_Champion,Salvager_of_Secrets,An...</td>\n",
              "      <td>Open_the_Graves,Luminous_Bonds,Skymarch_Bloodl...</td>\n",
              "      <td>Palladia-Mors,_the_Ruiner,Vigilant_Baloth,Decl...</td>\n",
              "      <td>Vivien's_Invocation,Rabid_Bite,Gallant_Cavalry...</td>\n",
              "    </tr>\n",
              "    <tr>\n",
              "      <th>1</th>\n",
              "      <td>1222597</td>\n",
              "      <td>M19</td>\n",
              "      <td>Open_the_Graves,Fell_Specter,Fell_Specter,Hire...</td>\n",
              "      <td>Dwindle,Gargoyle_Sentinel,Star-Crowned_Stag,St...</td>\n",
              "      <td>Luminous_Bonds,Angel_of_the_Dawn,Arcane_Encycl...</td>\n",
              "      <td>Lathliss,_Dragon_Queen,Fiery_Finish,Arcane_Enc...</td>\n",
              "      <td>Hieromancer's_Cage,Lich's_Caress,Thorn_Lieuten...</td>\n",
              "      <td>Mystic_Archaeologist,Rabid_Bite,Declare_Domina...</td>\n",
              "      <td>Bone_Dragon,Strangling_Spores,Epicure_of_Blood...</td>\n",
              "      <td>Nicol_Bolas,_the_Ravager,Lich's_Caress,Dwindle...</td>\n",
              "    </tr>\n",
              "    <tr>\n",
              "      <th>2</th>\n",
              "      <td>1260654</td>\n",
              "      <td>M19</td>\n",
              "      <td>Lightning_Strike,Elvish_Rejuvenator,Shock,Cent...</td>\n",
              "      <td>Demon_of_Catastrophes,Patient_Rebuilding,Star-...</td>\n",
              "      <td>Phylactery_Lich,Vine_Mare,Plague_Mare,Volcanic...</td>\n",
              "      <td>Rabid_Bite,Bristling_Boar,Exclusion_Mage,Gargo...</td>\n",
              "      <td>Mentor_of_the_Meek,Volcanic_Dragon,Havoc_Devil...</td>\n",
              "      <td>Goreclaw,_Terror_of_Qal_Sisma,Rabid_Bite,Mirro...</td>\n",
              "      <td>Lich's_Caress,Surge_Mare,Knightly_Valor,Skymar...</td>\n",
              "      <td>Plague_Mare,Herald_of_Faith,Gallant_Cavalry,Su...</td>\n",
              "    </tr>\n",
              "    <tr>\n",
              "      <th>3</th>\n",
              "      <td>1307575</td>\n",
              "      <td>M19</td>\n",
              "      <td>Dismissive_Pyromancer,Strangling_Spores,Graved...</td>\n",
              "      <td>Demon_of_Catastrophes,Sift,Skymarch_Bloodlette...</td>\n",
              "      <td>Graveyard_Marshal,Dryad_Greenseeker,Dwindle,Gh...</td>\n",
              "      <td>Death_Baron,Lich's_Caress,Horizon_Scholar,Chil...</td>\n",
              "      <td>Sift,Star-Crowned_Stag,Vine_Mare,Centaur_Cours...</td>\n",
              "      <td>Prodigious_Growth,Sleep,Skilled_Animator,Lumin...</td>\n",
              "      <td>Dismissive_Pyromancer,Vampire_Sovereign,Gallan...</td>\n",
              "      <td>Dark-Dweller_Oracle,Shock,Ajani's_Pridemate,To...</td>\n",
              "    </tr>\n",
              "    <tr>\n",
              "      <th>4</th>\n",
              "      <td>1222964</td>\n",
              "      <td>M19</td>\n",
              "      <td>Lightning_Strike,Ajani's_Pridemate,Angel_of_th...</td>\n",
              "      <td>Sigiled_Sword_of_Valeron,Vivien's_Invocation,S...</td>\n",
              "      <td>Goblin_Trashmaster,Luminous_Bonds,Fell_Specter...</td>\n",
              "      <td>Patient_Rebuilding,Sift,Departed_Deckhand,Gear...</td>\n",
              "      <td>Switcheroo,Knightly_Valor,Gallant_Cavalry,Pega...</td>\n",
              "      <td>Lightning_Strike,Strangling_Spores,Strangling_...</td>\n",
              "      <td>Lightning_Strike,Runic_Armasaur,Gift_of_Paradi...</td>\n",
              "      <td>Electrify,Switcheroo,Surge_Mare,Skyrider_Patro...</td>\n",
              "    </tr>\n",
              "  </tbody>\n",
              "</table>\n",
              "</div>"
            ],
            "text/plain": [
              "   draftid  ...                                           player_8\n",
              "0  1312928  ...  Vivien's_Invocation,Rabid_Bite,Gallant_Cavalry...\n",
              "1  1222597  ...  Nicol_Bolas,_the_Ravager,Lich's_Caress,Dwindle...\n",
              "2  1260654  ...  Plague_Mare,Herald_of_Faith,Gallant_Cavalry,Su...\n",
              "3  1307575  ...  Dark-Dweller_Oracle,Shock,Ajani's_Pridemate,To...\n",
              "4  1222964  ...  Electrify,Switcheroo,Surge_Mare,Skyrider_Patro...\n",
              "\n",
              "[5 rows x 10 columns]"
            ]
          },
          "metadata": {
            "tags": []
          },
          "execution_count": 17
        }
      ]
    },
    {
      "cell_type": "markdown",
      "metadata": {
        "id": "CwiN3s1s9mQw"
      },
      "source": [
        "### Note:  Human Drafter is player_1"
      ]
    },
    {
      "cell_type": "markdown",
      "metadata": {
        "id": "fEX3wCs49mQx"
      },
      "source": [
        "## Defining a function to find string representation of onehot vector for use later"
      ]
    },
    {
      "cell_type": "code",
      "metadata": {
        "id": "tC3cbCA59mQx"
      },
      "source": [
        "def find_contense(one_hot):\n",
        "    pack = []\n",
        "    for i in range(0, len(one_hot)):\n",
        "        if (one_hot[i] == 0):\n",
        "            pass\n",
        "        if (one_hot[i] > 0):\n",
        "            for j in range(0, one_hot[i]):\n",
        "                pack.append(card_index_inverted[i])\n",
        "    return pack"
      ],
      "execution_count": null,
      "outputs": []
    },
    {
      "cell_type": "code",
      "metadata": {
        "id": "JMPf75Qd9mQx",
        "colab": {
          "base_uri": "https://localhost:8080/"
        },
        "outputId": "66874bf6-2a84-4ce0-c5ae-3b552c049483"
      },
      "source": [
        "example = find_contense([1, 0, 0, 0, 0, 1])\n",
        "example"
      ],
      "execution_count": null,
      "outputs": [
        {
          "output_type": "execute_result",
          "data": {
            "text/plain": [
              "['Plains', 'Island']"
            ]
          },
          "metadata": {
            "tags": []
          },
          "execution_count": 19
        }
      ]
    },
    {
      "cell_type": "markdown",
      "metadata": {
        "id": "MvhHsS5n9mQx"
      },
      "source": [
        "## Translating Data into Onehot Encoding"
      ]
    },
    {
      "cell_type": "markdown",
      "metadata": {
        "id": "RqAOTScR9mQx"
      },
      "source": [
        "### Defining a list of player names"
      ]
    },
    {
      "cell_type": "code",
      "metadata": {
        "id": "Ty-ml_yl9mQx"
      },
      "source": [
        "col_str = \"player_\"\n",
        "list_of_players = []\n",
        "for i in range(1, 9):\n",
        "    list_of_players.append(col_str + str(i))"
      ],
      "execution_count": null,
      "outputs": []
    },
    {
      "cell_type": "code",
      "metadata": {
        "id": "i2btDOs39mQy",
        "colab": {
          "base_uri": "https://localhost:8080/"
        },
        "outputId": "2fcd1d7d-dd55-4208-c587-ce961a8b1f3f"
      },
      "source": [
        "list_of_players #list of player names, player 1 is hero"
      ],
      "execution_count": null,
      "outputs": [
        {
          "output_type": "execute_result",
          "data": {
            "text/plain": [
              "['player_1',\n",
              " 'player_2',\n",
              " 'player_3',\n",
              " 'player_4',\n",
              " 'player_5',\n",
              " 'player_6',\n",
              " 'player_7',\n",
              " 'player_8']"
            ]
          },
          "metadata": {
            "tags": []
          },
          "execution_count": 21
        }
      ]
    },
    {
      "cell_type": "markdown",
      "metadata": {
        "id": "bqyWQgdl9mQy"
      },
      "source": [
        "### Define function to take a row of the dataset, and turn into a list of len 8"
      ]
    },
    {
      "cell_type": "code",
      "metadata": {
        "id": "IuKCDhVR9mQy"
      },
      "source": [
        "def split_draft_text_by_player(dataset, list_of_players, draft):\n",
        "    player_split_draft = []\n",
        "    for i in range(0, len(list_of_players)):\n",
        "        player_split_draft.append(dataset[list_of_players[i]][draft])\n",
        "    return player_split_draft"
      ],
      "execution_count": null,
      "outputs": []
    },
    {
      "cell_type": "code",
      "metadata": {
        "id": "m5t7SjZk9mQy"
      },
      "source": [
        "player_split_draft = split_draft_text_by_player(drafts_test, list_of_players, 1)"
      ],
      "execution_count": null,
      "outputs": []
    },
    {
      "cell_type": "code",
      "metadata": {
        "id": "FvMRPaWI9mQy",
        "colab": {
          "base_uri": "https://localhost:8080/"
        },
        "outputId": "46647704-d24e-4f4f-c163-af8569431f7f"
      },
      "source": [
        "player_split_draft[0]"
      ],
      "execution_count": null,
      "outputs": [
        {
          "output_type": "execute_result",
          "data": {
            "application/vnd.google.colaboratory.intrinsic+json": {
              "type": "string"
            },
            "text/plain": [
              "\"Open_the_Graves,Fell_Specter,Fell_Specter,Hired_Blade,Macabre_Waltz,Fire_Elemental,Hired_Blade,Viashino_Pyromancer,Rustwing_Falcon,Macabre_Waltz,Manalith,Tolarian_Scholar,Crash_Through,Crash_Through,Ajani's_Welcome,Death_Baron,Electrify,Boggart_Brute,Dragon_Egg,Infectious_Horror,Abnormal_Endurance,Fire_Elemental,Child_of_Night,Doomed_Dissenter,Havoc_Devils,Duress,Two-Headed_Zombie,Naturalize,Lava_Axe,Forest_4,Sarkhan,_Fireblood,Strangling_Spores,Brawl-Bash_Ogre,Brawl-Bash_Ogre,Shock,Goblin_Instigator,Trumpet_Blast,Alpine_Moon,Viashino_Pyromancer,Viashino_Pyromancer,Hired_Blade,Abnormal_Endurance,Mighty_Leap,Wall_of_Vines,Island_3\""
            ]
          },
          "metadata": {
            "tags": []
          },
          "execution_count": 24
        }
      ]
    },
    {
      "cell_type": "markdown",
      "metadata": {
        "id": "CKpzGG3m9mQy"
      },
      "source": [
        "### Using a Regex to split the block of text into a list of picks.  Output dims 8x45"
      ]
    },
    {
      "cell_type": "code",
      "metadata": {
        "id": "3dwNN5Kk9mQz"
      },
      "source": [
        "def regex_to_list_picks(entire_draft):\n",
        "    seperated_pools = []\n",
        "    for i in entire_draft:\n",
        "        temp = re.split(\",(?=[A-Z])\", i)\n",
        "        seperated_pools.append(temp)\n",
        "    return seperated_pools"
      ],
      "execution_count": null,
      "outputs": []
    },
    {
      "cell_type": "code",
      "metadata": {
        "id": "rd5uK2Y29mQz"
      },
      "source": [
        "seperated_pools = regex_to_list_picks(player_split_draft)"
      ],
      "execution_count": null,
      "outputs": []
    },
    {
      "cell_type": "code",
      "metadata": {
        "id": "f_CX5pvj9mQz",
        "colab": {
          "base_uri": "https://localhost:8080/"
        },
        "outputId": "1bc4baea-9dd2-4e16-d19e-7db308cecc5e"
      },
      "source": [
        "seperated_pools[0][:5] #seperated_pools[player 1's][first 5 picks]"
      ],
      "execution_count": null,
      "outputs": [
        {
          "output_type": "execute_result",
          "data": {
            "text/plain": [
              "['Open_the_Graves',\n",
              " 'Fell_Specter',\n",
              " 'Fell_Specter',\n",
              " 'Hired_Blade',\n",
              " 'Macabre_Waltz']"
            ]
          },
          "metadata": {
            "tags": []
          },
          "execution_count": 27
        }
      ]
    },
    {
      "cell_type": "markdown",
      "metadata": {
        "id": "ROvQ7KGL9mQz"
      },
      "source": [
        "### Splitting each players 45 picks into three packs of 15.  Output dims 8x3x15"
      ]
    },
    {
      "cell_type": "code",
      "metadata": {
        "id": "FmvK-39l9mQz"
      },
      "source": [
        "def seperate_pool_into_packs(each_players_pool):\n",
        "    pack_seperated_draft = []\n",
        "    for player in range(0, 8):\n",
        "        player_picks = []\n",
        "        for i in range(1,4):\n",
        "            if (i == 1):\n",
        "                pack = []\n",
        "                for j in range(0, 15):\n",
        "                    pack.append(each_players_pool[player][j])\n",
        "                player_picks.append(pack)\n",
        "            if (i == 2):\n",
        "                pack = []\n",
        "                for j in range(15, 30):\n",
        "                    pack.append(each_players_pool[player][j])\n",
        "                player_picks.append(pack)\n",
        "            if (i == 3):\n",
        "                pack = []\n",
        "                for j in range(30, 45):\n",
        "                    pack.append(each_players_pool[player][j])\n",
        "                player_picks.append(pack)\n",
        "        pack_seperated_draft.append(player_picks)\n",
        "    return pack_seperated_draft"
      ],
      "execution_count": null,
      "outputs": []
    },
    {
      "cell_type": "code",
      "metadata": {
        "id": "wGqegDxv9mQz"
      },
      "source": [
        "pack_seperated_draft = seperate_pool_into_packs(seperated_pools)"
      ],
      "execution_count": null,
      "outputs": []
    },
    {
      "cell_type": "code",
      "metadata": {
        "id": "RCauyN1s9mQ0",
        "colab": {
          "base_uri": "https://localhost:8080/"
        },
        "outputId": "20176932-fffc-4cb4-e200-8d2af1b5fb49"
      },
      "source": [
        "pack_seperated_draft[4][2] #player 5's 3rd pack"
      ],
      "execution_count": null,
      "outputs": [
        {
          "output_type": "execute_result",
          "data": {
            "text/plain": [
              "[\"Hieromancer's_Cage\",\n",
              " 'Pegasus_Courser',\n",
              " \"Lich's_Caress\",\n",
              " \"Lich's_Caress\",\n",
              " 'Macabre_Waltz',\n",
              " 'Abnormal_Endurance',\n",
              " 'Skyscanner',\n",
              " 'Two-Headed_Zombie',\n",
              " 'Make_a_Stand',\n",
              " 'Satyr_Enchanter',\n",
              " 'Dwarven_Priest',\n",
              " 'Cinder_Barrens',\n",
              " \"Knight's_Pledge\",\n",
              " 'Smelt',\n",
              " 'Omniscience']"
            ]
          },
          "metadata": {
            "tags": []
          },
          "execution_count": 30
        }
      ]
    },
    {
      "cell_type": "markdown",
      "metadata": {
        "id": "PXBosZca9mQ0"
      },
      "source": [
        "### Turning this list into a layered dictionary for easier lookup, generating onehot of the pack opened"
      ]
    },
    {
      "cell_type": "code",
      "metadata": {
        "id": "AsbzARxm9mQ0"
      },
      "source": [
        "def generate_packs_opened_dict(packs_opened_array):\n",
        "    pack_dict = {}\n",
        "    pack_dict_onehot = {}\n",
        "    for players in range(0,8):\n",
        "        player_packs = {}\n",
        "        player_packs_onehot = {}\n",
        "        for packs in range(0,3):\n",
        "            pack = []\n",
        "            onehot = np.zeros(285, dtype=np.int8)\n",
        "            for picks in range(0,15):\n",
        "                index = (players+ picks) % 8\n",
        "                pick = packs_opened_array[index][packs][picks]\n",
        "                pack.append(packs_opened_array[index][packs][picks])\n",
        "                onehot[card_index[pick]] = 1\n",
        "            player_packs[\"pack_\" + str(packs + 1)] = pack\n",
        "            player_packs_onehot[\"pack_\" + str(packs + 1)] = onehot\n",
        "        pack_dict[\"player_\"+ str(players+1)] = player_packs\n",
        "        pack_dict_onehot[\"player_\"+ str(players+1)] = player_packs_onehot\n",
        "    return pack_dict, pack_dict_onehot"
      ],
      "execution_count": null,
      "outputs": []
    },
    {
      "cell_type": "code",
      "metadata": {
        "id": "WNm6lCHO9mQ0"
      },
      "source": [
        "pack_dict, pack_dict_onehot = generate_packs_opened_dict(pack_seperated_draft)"
      ],
      "execution_count": null,
      "outputs": []
    },
    {
      "cell_type": "code",
      "metadata": {
        "id": "oxesHfiN9mQ0",
        "colab": {
          "base_uri": "https://localhost:8080/"
        },
        "outputId": "9d282c07-f1d7-488a-b081-f4c5fe99bced"
      },
      "source": [
        "pack_dict_onehot[\"player_1\"][\"pack_2\"]"
      ],
      "execution_count": null,
      "outputs": [
        {
          "output_type": "execute_result",
          "data": {
            "text/plain": [
              "array([0, 0, 1, 0, 0, 0, 0, 0, 0, 0, 0, 0, 0, 0, 0, 0, 0, 0, 0, 0, 0, 0,\n",
              "       0, 0, 0, 0, 1, 0, 0, 0, 0, 0, 0, 0, 0, 0, 0, 0, 0, 0, 0, 0, 0, 0,\n",
              "       0, 0, 1, 0, 0, 0, 0, 0, 0, 0, 0, 0, 0, 0, 0, 0, 0, 0, 0, 0, 0, 0,\n",
              "       0, 1, 0, 0, 0, 0, 0, 0, 0, 0, 0, 0, 0, 0, 0, 0, 0, 0, 0, 0, 0, 0,\n",
              "       0, 1, 0, 0, 0, 0, 0, 0, 0, 1, 0, 0, 0, 0, 0, 0, 0, 0, 0, 0, 0, 0,\n",
              "       0, 0, 0, 0, 0, 0, 0, 0, 0, 0, 0, 0, 0, 0, 0, 0, 0, 0, 0, 0, 0, 0,\n",
              "       1, 0, 0, 0, 0, 0, 0, 0, 0, 0, 0, 0, 0, 0, 0, 0, 0, 0, 0, 0, 0, 0,\n",
              "       0, 0, 0, 0, 0, 0, 0, 1, 0, 1, 0, 0, 0, 0, 0, 0, 0, 0, 0, 0, 0, 0,\n",
              "       0, 0, 0, 0, 0, 0, 0, 0, 0, 0, 0, 1, 0, 0, 0, 0, 0, 0, 0, 0, 0, 0,\n",
              "       0, 0, 0, 0, 0, 0, 0, 0, 0, 0, 0, 0, 0, 0, 0, 0, 0, 0, 1, 0, 0, 1,\n",
              "       0, 0, 0, 0, 0, 0, 0, 0, 0, 0, 0, 0, 0, 0, 1, 0, 0, 0, 0, 0, 0, 0,\n",
              "       0, 0, 0, 0, 0, 0, 0, 0, 0, 0, 0, 0, 0, 0, 0, 0, 0, 0, 0, 0, 0, 0,\n",
              "       1, 0, 0, 0, 1, 0, 0, 0, 0, 0, 0, 0, 0, 0, 0, 0, 0, 0, 0, 0, 0],\n",
              "      dtype=int8)"
            ]
          },
          "metadata": {
            "tags": []
          },
          "execution_count": 33
        }
      ]
    },
    {
      "cell_type": "code",
      "metadata": {
        "id": "51zuqGTS9mQ0",
        "colab": {
          "base_uri": "https://localhost:8080/"
        },
        "outputId": "38c183c9-4213-4787-999c-1b5e033d0602"
      },
      "source": [
        "np.count_nonzero(pack_dict_onehot[\"player_1\"][\"pack_1\"] == 1) #as expected, 15 values give coded as 1 in pack"
      ],
      "execution_count": null,
      "outputs": [
        {
          "output_type": "execute_result",
          "data": {
            "text/plain": [
              "15"
            ]
          },
          "metadata": {
            "tags": []
          },
          "execution_count": 34
        }
      ]
    },
    {
      "cell_type": "markdown",
      "metadata": {
        "id": "OAcaVZL09mQ1"
      },
      "source": [
        "### This is a function that reshapes the data to make a following step easier"
      ]
    },
    {
      "cell_type": "code",
      "metadata": {
        "id": "ka2TmiNM9mQ1"
      },
      "source": [
        "def generate_feeder_array(pack_dictionary):  #this function just reshapes the data for easier use in next function\n",
        "    feeder_array = []\n",
        "    for i in range(0,8):\n",
        "        for j in range(0,3):\n",
        "            feeder_array.append(pack_dictionary[\"player_\" + str(i+1)][\"pack_\" + str(j+1)])\n",
        "    return feeder_array"
      ],
      "execution_count": null,
      "outputs": []
    },
    {
      "cell_type": "code",
      "metadata": {
        "id": "7oKbu-Sd9mQ1"
      },
      "source": [
        "#feeder_array is a list with 24 entries.  1-3 are player 1's packs(1,2,3), 4-6 player twos packs(1,2,3), etc "
      ],
      "execution_count": null,
      "outputs": []
    },
    {
      "cell_type": "code",
      "metadata": {
        "id": "iy1fIym39mQ2"
      },
      "source": [
        "feeder_array = generate_feeder_array(pack_dict)"
      ],
      "execution_count": null,
      "outputs": []
    },
    {
      "cell_type": "code",
      "metadata": {
        "id": "T3BhmqJt9mQ2",
        "colab": {
          "base_uri": "https://localhost:8080/"
        },
        "outputId": "f1ae8ed9-5ece-4299-e901-ed93ca821c64"
      },
      "source": [
        "feeder_array[0]"
      ],
      "execution_count": null,
      "outputs": [
        {
          "output_type": "execute_result",
          "data": {
            "text/plain": [
              "['Open_the_Graves',\n",
              " 'Gargoyle_Sentinel',\n",
              " 'Arcane_Encyclopedia',\n",
              " 'Goblin_Instigator',\n",
              " 'Skymarch_Bloodletter',\n",
              " 'Gift_of_Paradise',\n",
              " 'Walking_Corpse',\n",
              " 'Smelt',\n",
              " 'Rustwing_Falcon',\n",
              " 'Mighty_Leap',\n",
              " 'Knight_of_the_Tusk',\n",
              " 'Titanic_Growth',\n",
              " 'Rhox_Oracle',\n",
              " 'Highland_Game',\n",
              " 'Timber_Gorge']"
            ]
          },
          "metadata": {
            "tags": []
          },
          "execution_count": 38
        }
      ]
    },
    {
      "cell_type": "markdown",
      "metadata": {
        "id": "Z9Q6LygO9mQ2"
      },
      "source": [
        "### Generating the packs seen by each player in each pick in string and onehot form"
      ]
    },
    {
      "cell_type": "markdown",
      "metadata": {
        "id": "EakVWUT39mQ2"
      },
      "source": [
        "To recreate each pick seen by each player in the draft, we must take starting pack of each player, remove their pick, and then shift the pack in the correct direction, and repeat the process.  To keep track of the pack each player has at any given point, we use a list named pack_array, [0,1,2,3,4,5,6,7].  0 is the pack opened by player 0.  Every time a pick is made by all players, the last value of the array is popped out and shifted to the front.  We use the formula that considers pick, player number, and the current pack_array[player] to determine the contense of the pack, provided by feeder_array, at any given point.  Pack_array is nested within pack loop, because after each pack is finished, players start the next pack by opening their own pack.  We start by using a deepcopy because we don't want to destroy the orig packs in this process."
      ]
    },
    {
      "cell_type": "code",
      "metadata": {
        "id": "Mxfzw3fP9mQ2"
      },
      "source": [
        "def create_all_picks_seen(packs_opened, pack_seperated_draft, seperated_pools, target_player):\n",
        "    packs_shown_player = {} #dict we will store all picks for all players\n",
        "    packs_shown_player_onehot = {}\n",
        "    pool_at_pick = {} #pool of player at that point\n",
        "    pool_at_pick_onehot = {}\n",
        "    pick_onehot = {}\n",
        "    counter = 0 #counts picks so far in draft\n",
        "    modified_packs = copy.deepcopy(packs_opened)  #we make a deepcopy to mutate the packs and retain orig\n",
        "    \n",
        "    for pack in range(0,3):\n",
        "        pack_array = [0,1,2,3,4,5,6,7] #we pop the end and put it at the beginning for each new pick, reset after pack\n",
        "        for pick in range(0,15):\n",
        "            for player in range(0, 8):\n",
        "#                 print(\"pack_seen:\", pack_array[player], \"player:\", player, \"pack\", pack, \"pick\", pick)\n",
        "                pick_made = pack_seperated_draft[player][pack][pick]\n",
        "#                 print(\"pick: \"+ pick_made)\n",
        "#                 print(\"pack seen: \", modified_packs[pack_array[player]*3 + pack])\n",
        "                pool = seperated_pools[player][:counter]\n",
        "                pick_alternate_method = seperated_pools[player][counter]\n",
        "        \n",
        "                if (player == target_player):\n",
        "                \n",
        "                    pick_made_onehot = np.zeros(285, dtype=np.int8)\n",
        "                    pick_made_onehot[card_index[pick_alternate_method]] = 1\n",
        "                    \n",
        "                    pick_onehot[\"player_\" + str(player+1) + \"_pack_\" + str(pack+1) + \"_pick_\" + str(pick+1)] = pick_made_onehot\n",
        "                    packs_shown_player[\"player_\" + str(player+1) + \"_pack_\" + str(pack+1) + \"_pick_\" + str(pick+1)] = copy.deepcopy(modified_packs[pack_array[player]*3 + pack])\n",
        "                    \n",
        "                    active_pack = copy.deepcopy(modified_packs[pack_array[player]*3 + pack])\n",
        "                    onehot_packs = np.zeros(285, dtype = np.int8)\n",
        "                    \n",
        "                    for k in active_pack:\n",
        "                        onehot_packs[card_index[k]] = 1\n",
        "                    packs_shown_player_onehot[\"player_\" + str(player+1) + \"_pack_\" + str(pack+1) + \"_pick_\" + str(pick+1)] = onehot_packs\n",
        "                   \n",
        "                    pool_at_pick[\"player_\" + str(player+1) + \"_pack_\" + str(pack+1) + \"_pick_\" + str(pick+1)] = pool\n",
        "                    \n",
        "                    #saving the onehot of the pool at the point before the pick was made\n",
        "                    onehot_picks = np.zeros(285, dtype = np.int8)\n",
        "                    \n",
        "                    for j in pool:\n",
        "                        onehot_picks[card_index[j]] = onehot_picks[card_index[j]] + 1\n",
        "                    pool_at_pick_onehot[\"player_\" + str(player+1) + \"_pack_\" + str(pack+1) + \"_pick_\" + str(pick+1)] = onehot_picks\n",
        "                \n",
        "                modified_packs[pack_array[player]*3 + pack].remove(pick_made)\n",
        "                \n",
        "            counter = counter + 1\n",
        "            popout = pack_array.pop(-1)\n",
        "            pack_array.insert(0, popout)\n",
        "            \n",
        "    return packs_shown_player, pool_at_pick, packs_shown_player_onehot, pool_at_pick_onehot, pick_onehot"
      ],
      "execution_count": null,
      "outputs": []
    },
    {
      "cell_type": "code",
      "metadata": {
        "id": "PyM3EZRa9mQ3"
      },
      "source": [
        "packs_shown_player, pool_at_pick, packs_shown_player_onehot, pool_at_pick_onehot, pick_onehot  = create_all_picks_seen(feeder_array, pack_seperated_draft, seperated_pools, 0)"
      ],
      "execution_count": null,
      "outputs": []
    },
    {
      "cell_type": "markdown",
      "metadata": {
        "id": "hQnGyRkO9mQ3"
      },
      "source": [
        "### Example output"
      ]
    },
    {
      "cell_type": "code",
      "metadata": {
        "id": "wNOA3hAc9mQ3",
        "colab": {
          "base_uri": "https://localhost:8080/"
        },
        "outputId": "508403a0-ea9f-4e68-f37e-4d658252e33f"
      },
      "source": [
        "pool_at_pick_onehot[\"player_1_pack_1_pick_11\"]"
      ],
      "execution_count": null,
      "outputs": [
        {
          "output_type": "execute_result",
          "data": {
            "text/plain": [
              "array([0, 0, 0, 0, 0, 0, 0, 0, 0, 0, 0, 0, 0, 0, 0, 0, 0, 0, 0, 0, 0, 0,\n",
              "       0, 0, 0, 0, 0, 0, 0, 0, 0, 0, 0, 0, 0, 0, 0, 0, 0, 0, 0, 0, 0, 0,\n",
              "       0, 0, 0, 0, 0, 0, 0, 0, 0, 0, 0, 0, 0, 0, 0, 0, 0, 0, 0, 0, 0, 0,\n",
              "       0, 0, 0, 0, 0, 0, 0, 0, 0, 0, 0, 0, 1, 0, 0, 0, 0, 0, 0, 0, 0, 0,\n",
              "       0, 0, 0, 0, 0, 0, 0, 0, 0, 0, 0, 0, 0, 0, 0, 0, 0, 0, 0, 0, 0, 2,\n",
              "       0, 0, 0, 0, 0, 0, 0, 0, 0, 0, 0, 0, 0, 0, 0, 0, 0, 0, 0, 0, 0, 0,\n",
              "       0, 0, 0, 0, 0, 0, 0, 0, 0, 0, 0, 0, 0, 0, 1, 0, 0, 0, 0, 0, 0, 0,\n",
              "       0, 0, 0, 0, 0, 0, 1, 0, 0, 0, 0, 0, 0, 0, 0, 0, 0, 0, 0, 0, 0, 0,\n",
              "       0, 0, 0, 0, 0, 0, 0, 0, 0, 0, 0, 0, 1, 0, 0, 0, 0, 0, 0, 0, 0, 0,\n",
              "       0, 0, 0, 0, 0, 0, 0, 0, 0, 0, 0, 0, 0, 0, 0, 0, 0, 0, 0, 0, 0, 0,\n",
              "       0, 0, 0, 0, 0, 0, 0, 0, 0, 0, 0, 0, 0, 0, 0, 0, 0, 0, 0, 0, 0, 0,\n",
              "       0, 0, 0, 0, 0, 0, 0, 0, 0, 0, 0, 0, 0, 0, 0, 0, 0, 0, 0, 0, 0, 0,\n",
              "       0, 0, 2, 0, 2, 0, 0, 0, 0, 0, 0, 0, 0, 0, 0, 0, 0, 0, 0, 0, 0],\n",
              "      dtype=int8)"
            ]
          },
          "metadata": {
            "tags": []
          },
          "execution_count": 41
        }
      ]
    },
    {
      "cell_type": "code",
      "metadata": {
        "id": "U1Fjr1KC9mQ4",
        "colab": {
          "base_uri": "https://localhost:8080/"
        },
        "outputId": "417dc3dc-14d2-4b43-a8fb-0937178f2d9b"
      },
      "source": [
        "packs_shown_player[\"player_1_pack_2_pick_12\"]"
      ],
      "execution_count": null,
      "outputs": [
        {
          "output_type": "execute_result",
          "data": {
            "text/plain": [
              "['Two-Headed_Zombie', 'Wall_of_Mist', 'Mighty_Leap', 'Thud']"
            ]
          },
          "metadata": {
            "tags": []
          },
          "execution_count": 42
        }
      ]
    },
    {
      "cell_type": "code",
      "metadata": {
        "id": "lBcBT8Vr9mQ4",
        "colab": {
          "base_uri": "https://localhost:8080/"
        },
        "outputId": "cf1f0662-e1b6-4c03-9e82-ffa18d959694"
      },
      "source": [
        "pool_at_pick[\"player_1_pack_1_pick_9\"]"
      ],
      "execution_count": null,
      "outputs": [
        {
          "output_type": "execute_result",
          "data": {
            "text/plain": [
              "['Open_the_Graves',\n",
              " 'Fell_Specter',\n",
              " 'Fell_Specter',\n",
              " 'Hired_Blade',\n",
              " 'Macabre_Waltz',\n",
              " 'Fire_Elemental',\n",
              " 'Hired_Blade',\n",
              " 'Viashino_Pyromancer']"
            ]
          },
          "metadata": {
            "tags": []
          },
          "execution_count": 43
        }
      ]
    },
    {
      "cell_type": "markdown",
      "metadata": {
        "id": "FPHaHYld9mQ4"
      },
      "source": [
        "### Making a smaller training set for faster errorproofing of ML"
      ]
    },
    {
      "cell_type": "code",
      "metadata": {
        "id": "mkIM45jdyYje"
      },
      "source": [
        "drafts_train_start = 30000 #use this variable in conjunction with the export var line below to define train size\r\n",
        "drafts_test_start = 3000 #use this variable in conjunction with the export var line below to define train size"
      ],
      "execution_count": null,
      "outputs": []
    },
    {
      "cell_type": "code",
      "metadata": {
        "id": "bpHIzgav9mQ4"
      },
      "source": [
        "drafts_train_export = copy.deepcopy(drafts_train)\n",
        "drafts_test_export = copy.deepcopy(drafts_test)"
      ],
      "execution_count": null,
      "outputs": []
    },
    {
      "cell_type": "code",
      "metadata": {
        "id": "KCrJ-bl-9mQ4"
      },
      "source": [
        "drafts_train_export = drafts_train_export[drafts_train_start:60000]\n",
        "drafts_test_export = drafts_test_export[drafts_test_start:6000]"
      ],
      "execution_count": null,
      "outputs": []
    },
    {
      "cell_type": "code",
      "metadata": {
        "id": "pmL7h47U9mQ5",
        "colab": {
          "base_uri": "https://localhost:8080/",
          "height": 232
        },
        "outputId": "601c1728-3445-4d2e-ac5a-5322154977a4"
      },
      "source": [
        "drafts_train_export.head()"
      ],
      "execution_count": null,
      "outputs": [
        {
          "output_type": "execute_result",
          "data": {
            "text/html": [
              "<div>\n",
              "<style scoped>\n",
              "    .dataframe tbody tr th:only-of-type {\n",
              "        vertical-align: middle;\n",
              "    }\n",
              "\n",
              "    .dataframe tbody tr th {\n",
              "        vertical-align: top;\n",
              "    }\n",
              "\n",
              "    .dataframe thead th {\n",
              "        text-align: right;\n",
              "    }\n",
              "</style>\n",
              "<table border=\"1\" class=\"dataframe\">\n",
              "  <thead>\n",
              "    <tr style=\"text-align: right;\">\n",
              "      <th></th>\n",
              "      <th>draftid</th>\n",
              "      <th>set</th>\n",
              "      <th>player_1</th>\n",
              "      <th>player_2</th>\n",
              "      <th>player_3</th>\n",
              "      <th>player_4</th>\n",
              "      <th>player_5</th>\n",
              "      <th>player_6</th>\n",
              "      <th>player_7</th>\n",
              "      <th>player_8</th>\n",
              "    </tr>\n",
              "  </thead>\n",
              "  <tbody>\n",
              "    <tr>\n",
              "      <th>30000</th>\n",
              "      <td>1282610</td>\n",
              "      <td>M19</td>\n",
              "      <td>Plague_Mare,Regal_Bloodlord,Ajani's_Pridemate,...</td>\n",
              "      <td>Bone_Dragon,Star-Crowned_Stag,Lich's_Caress,Ma...</td>\n",
              "      <td>Vine_Mare,Lightning_Mare,Draconic_Disciple,Sho...</td>\n",
              "      <td>Arcades,_the_Strategist,Essence_Scatter,Aerial...</td>\n",
              "      <td>Sai,_Master_Thopterist,Angel_of_the_Dawn,Total...</td>\n",
              "      <td>Lich's_Caress,Shock,Arcane_Encyclopedia,Brawl-...</td>\n",
              "      <td>Pelakka_Wurm,Druid_of_the_Cowl,Sift,Centaur_Co...</td>\n",
              "      <td>Djinn_of_Wishes,Lich's_Caress,Switcheroo,Gears...</td>\n",
              "    </tr>\n",
              "    <tr>\n",
              "      <th>30001</th>\n",
              "      <td>1209160</td>\n",
              "      <td>M19</td>\n",
              "      <td>Regal_Bloodlord,Ajani's_Welcome,Skymarch_Blood...</td>\n",
              "      <td>Lich's_Caress,Death_Baron,Star-Crowned_Stag,Ra...</td>\n",
              "      <td>Cleansing_Nova,Angel_of_the_Dawn,Pegasus_Cours...</td>\n",
              "      <td>Vine_Mare,Plague_Mare,Centaur_Courser,Suspicio...</td>\n",
              "      <td>Sarkhan,_Fireblood,Druid_of_the_Cowl,Electrify...</td>\n",
              "      <td>Lich's_Caress,Vampire_Sovereign,Child_of_Night...</td>\n",
              "      <td>Angel_of_the_Dawn,Militia_Bugler,Gargoyle_Sent...</td>\n",
              "      <td>Lightning_Strike,Sparktongue_Dragon,Dark-Dwell...</td>\n",
              "    </tr>\n",
              "    <tr>\n",
              "      <th>30002</th>\n",
              "      <td>1267217</td>\n",
              "      <td>M19</td>\n",
              "      <td>Djinn_of_Wishes,Essence_Scatter,Enigma_Drake,E...</td>\n",
              "      <td>Vampire_Sovereign,Ravenous_Harpy,Abnormal_Endu...</td>\n",
              "      <td>Goreclaw,_Terror_of_Qal_Sisma,Lich's_Caress,Ar...</td>\n",
              "      <td>Switcheroo,Exclusion_Mage,Fell_Specter,Skyscan...</td>\n",
              "      <td>Cleansing_Nova,Volcanic_Dragon,Militia_Bugler,...</td>\n",
              "      <td>Bone_Dragon,Lich's_Caress,Salvager_of_Secrets,...</td>\n",
              "      <td>Vine_Mare,Electrify,Electrify,Suspicious_Bookc...</td>\n",
              "      <td>Herald_of_Faith,Aviation_Pioneer,Herald_of_Fai...</td>\n",
              "    </tr>\n",
              "    <tr>\n",
              "      <th>30003</th>\n",
              "      <td>1296242</td>\n",
              "      <td>M19</td>\n",
              "      <td>Djinn_of_Wishes,Exclusion_Mage,Divination,Esse...</td>\n",
              "      <td>Lich's_Caress,Regal_Bloodlord,Regal_Bloodlord,...</td>\n",
              "      <td>Luminous_Bonds,Vigilant_Baloth,Declare_Dominan...</td>\n",
              "      <td>Lena,_Selfless_Champion,Gallant_Cavalry,Star-C...</td>\n",
              "      <td>Militia_Bugler,Dwarven_Priest,Switcheroo,Rabid...</td>\n",
              "      <td>Palladia-Mors,_the_Ruiner,Shock,Fire_Elemental...</td>\n",
              "      <td>Banefire,Rabid_Bite,Liliana's_Contract,Onakke_...</td>\n",
              "      <td>Hungering_Hydra,Electrify,Luminous_Bonds,Satyr...</td>\n",
              "    </tr>\n",
              "    <tr>\n",
              "      <th>30004</th>\n",
              "      <td>1319830</td>\n",
              "      <td>M19</td>\n",
              "      <td>Bone_Dragon,Chaos_Wand,Regal_Bloodlord,Isolate...</td>\n",
              "      <td>Remorseful_Cleric,Volcanic_Dragon,Shock,Skysca...</td>\n",
              "      <td>Sarkhan's_Unsealing,Strangling_Spores,Boggart_...</td>\n",
              "      <td>Knightly_Valor,Knightly_Valor,Aethershield_Art...</td>\n",
              "      <td>Plague_Mare,Volcanic_Dragon,Departed_Deckhand,...</td>\n",
              "      <td>Druid_of_the_Cowl,Poison-Tip_Archer,Ravenous_H...</td>\n",
              "      <td>Sleep,Meteor_Golem,Scholar_of_Stars,Salvager_o...</td>\n",
              "      <td>Lightning_Strike,Pegasus_Courser,Suspicious_Bo...</td>\n",
              "    </tr>\n",
              "  </tbody>\n",
              "</table>\n",
              "</div>"
            ],
            "text/plain": [
              "       draftid  ...                                           player_8\n",
              "30000  1282610  ...  Djinn_of_Wishes,Lich's_Caress,Switcheroo,Gears...\n",
              "30001  1209160  ...  Lightning_Strike,Sparktongue_Dragon,Dark-Dwell...\n",
              "30002  1267217  ...  Herald_of_Faith,Aviation_Pioneer,Herald_of_Fai...\n",
              "30003  1296242  ...  Hungering_Hydra,Electrify,Luminous_Bonds,Satyr...\n",
              "30004  1319830  ...  Lightning_Strike,Pegasus_Courser,Suspicious_Bo...\n",
              "\n",
              "[5 rows x 10 columns]"
            ]
          },
          "metadata": {
            "tags": []
          },
          "execution_count": 47
        }
      ]
    },
    {
      "cell_type": "markdown",
      "metadata": {
        "id": "rLiq6gGO9mQ5"
      },
      "source": [
        "### Combining all above functions, and looping through each row of the dataframe, only outputting onehot"
      ]
    },
    {
      "cell_type": "markdown",
      "metadata": {
        "id": "_5gAJo0N9mQ5"
      },
      "source": [
        "#### If you want to also generate dicts of string names for errorproof, you can do so by removing full line comments"
      ]
    },
    {
      "cell_type": "code",
      "metadata": {
        "id": "4g206SGf9mQ5"
      },
      "source": [
        "def prepare_data(dataframe, start_index):\n",
        "    \n",
        "    #preloop prep\n",
        "    prefix_str = \"player_\"\n",
        "    list_of_players = []\n",
        "    for i in range(1, 9):\n",
        "        list_of_players.append(prefix_str + str(i))\n",
        "    # we now have a list of 8 player names names\n",
        "    \n",
        "#     dataframe_pact_dict = {}\n",
        "    dataframe_pact_dict_onehot = {}\n",
        "#     dataframe_packs_shown_player = {}\n",
        "    dataframe_packs_shown_player_onehot = {}\n",
        "#     dataframe_pool_at_pick = {}\n",
        "    dataframe_pool_at_pick_onehot = {}\n",
        "    dataframe_pick_onehot = {}\n",
        "    \n",
        "    for i in range(0, len(dataframe[\"player_1\"])): #for each draft in the dataset\n",
        "        \n",
        "        player_split_draft = split_draft_text_by_player(dataframe, list_of_players, i + start_index) #take the text draft and split by player\n",
        "\n",
        "        seperated_pools = regex_to_list_picks(player_split_draft) #use regex to make array of picks\n",
        "        \n",
        "        pack_seperated_draft = seperate_pool_into_packs(seperated_pools) #split each players pool into groups of 15\n",
        "        \n",
        "        pack_dict, pack_dict_onehot = generate_packs_opened_dict(pack_seperated_draft) #generate dict of each players packs opened\n",
        "        \n",
        "#         dataframe_pact_dict[\"draft_\" + str(i)] = pack_dict #save pack dict to dataframe dict\n",
        "\n",
        "        dataframe_pact_dict_onehot[\"draft_\" + str(i)] = pack_dict_onehot #save pack onehot to datafram dict\n",
        "        \n",
        "        feeder_array = generate_feeder_array(pack_dict) #generate feeder array used for future steps\n",
        "        \n",
        "        packs_shown_player, pool_at_pick, packs_shown_player_onehot, pool_at_pick_onehot, pick_onehot = create_all_picks_seen(feeder_array, pack_seperated_draft, seperated_pools, 0)\n",
        "        \n",
        "#         dataframe_packs_shown_player[\"draft_\" + str(i)] = packs_shown_player\n",
        "\n",
        "#         dataframe_pool_at_pick[\"draft_\" + str(i)] = pool_at_pick\n",
        "\n",
        "        dataframe_packs_shown_player_onehot[\"draft_\" + str(i)] = packs_shown_player_onehot\n",
        "    \n",
        "        dataframe_pool_at_pick_onehot[\"draft_\" + str(i)] = pool_at_pick_onehot\n",
        "        \n",
        "        dataframe_pick_onehot[\"draft_\" + str(i)] = pick_onehot\n",
        "        \n",
        "        # above line generates four dicts, then saves them to dataframe dicts\n",
        "        \n",
        "    return dataframe_pact_dict_onehot, dataframe_packs_shown_player_onehot, dataframe_pool_at_pick_onehot, dataframe_pick_onehot #dataframe_pact_dict, dataframe_packs_shown_player, dataframe_pool_at_pick,"
      ],
      "execution_count": null,
      "outputs": []
    },
    {
      "cell_type": "markdown",
      "metadata": {
        "id": "PH30v_2E2nir"
      },
      "source": [
        "## Generating the formatted Data"
      ]
    },
    {
      "cell_type": "code",
      "metadata": {
        "id": "4zkvB87l9mQ5"
      },
      "source": [
        "dataframe_pact_dict_onehot_train, dataframe_packs_shown_player_onehot_train, dataframe_pool_at_pick_onehot_train, dataframe_pick_onehot_train = prepare_data(drafts_train_export, drafts_train_start)"
      ],
      "execution_count": null,
      "outputs": []
    },
    {
      "cell_type": "code",
      "metadata": {
        "id": "QGcQ1DrP9mQ5"
      },
      "source": [
        "dataframe_pact_dict_onehot_test, dataframe_packs_shown_player_onehot_test, dataframe_pool_at_pick_onehot_test, dataframe_pick_onehot_test = prepare_data(drafts_test_export, drafts_test_start)"
      ],
      "execution_count": null,
      "outputs": []
    },
    {
      "cell_type": "markdown",
      "metadata": {
        "id": "lM4o1WAb9mQ6"
      },
      "source": [
        "### Example output"
      ]
    },
    {
      "cell_type": "markdown",
      "metadata": {
        "id": "_N1WqZfx9mQ6"
      },
      "source": [
        "### Testing things are working using find_contense function"
      ]
    },
    {
      "cell_type": "markdown",
      "metadata": {
        "id": "n_C6R6NN9mQ6"
      },
      "source": [
        "#### All picks should be in corresponding packs.  All pools should contain all previous picks.  We can make sure things are working correctly by examing a few test cases and making sure all of these conditions hold"
      ]
    },
    {
      "cell_type": "markdown",
      "metadata": {
        "id": "r3A04Ux29mQ6"
      },
      "source": [
        "###### Pack"
      ]
    },
    {
      "cell_type": "code",
      "metadata": {
        "id": "DpkWP7g79mQ6",
        "colab": {
          "base_uri": "https://localhost:8080/"
        },
        "outputId": "8df2c417-6ec4-4152-8818-5d35c1274ee6"
      },
      "source": [
        "find_contense(dataframe_packs_shown_player_onehot_test[\"draft_10\"][\"player_1_pack_1_pick_6\"])"
      ],
      "execution_count": null,
      "outputs": [
        {
          "output_type": "execute_result",
          "data": {
            "text/plain": [
              "['Mountain_4',\n",
              " 'Reclamation_Sage',\n",
              " 'Dwarven_Priest',\n",
              " 'Abnormal_Endurance',\n",
              " 'Gearsmith_Guardian',\n",
              " 'Manalith',\n",
              " 'Oakenform',\n",
              " 'Trumpet_Blast',\n",
              " 'Root_Snare',\n",
              " 'Boggart_Brute']"
            ]
          },
          "metadata": {
            "tags": []
          },
          "execution_count": 53
        }
      ]
    },
    {
      "cell_type": "markdown",
      "metadata": {
        "id": "koPgdnZL9mQ7"
      },
      "source": [
        "###### Pick"
      ]
    },
    {
      "cell_type": "code",
      "metadata": {
        "id": "klrX1Z3e9mQ7",
        "colab": {
          "base_uri": "https://localhost:8080/"
        },
        "outputId": "32013477-9dc8-4630-c4cd-b8eaa186a426"
      },
      "source": [
        "find_contense(dataframe_pick_onehot_test[\"draft_855\"][\"player_1_pack_1_pick_6\"])"
      ],
      "execution_count": null,
      "outputs": [
        {
          "output_type": "execute_result",
          "data": {
            "text/plain": [
              "['Giant_Spider']"
            ]
          },
          "metadata": {
            "tags": []
          },
          "execution_count": 54
        }
      ]
    },
    {
      "cell_type": "markdown",
      "metadata": {
        "id": "MZ0J7MNQ9mQ7"
      },
      "source": [
        "###### Pool (note, add 1 to pick because pool only contains card once it is picked (it is included in the following pick)"
      ]
    },
    {
      "cell_type": "code",
      "metadata": {
        "id": "XavUKhLV9mQ7",
        "colab": {
          "base_uri": "https://localhost:8080/"
        },
        "outputId": "a4c8a53f-6edb-4224-c1d1-0163f93422e6"
      },
      "source": [
        "find_contense(dataframe_pool_at_pick_onehot_test[\"draft_855\"][\"player_1_pack_1_pick_7\"])"
      ],
      "execution_count": null,
      "outputs": [
        {
          "output_type": "execute_result",
          "data": {
            "text/plain": [
              "['Gigantosaurus',\n",
              " \"Magistrate's_Scepter\",\n",
              " 'Mirror_Image',\n",
              " 'Giant_Spider',\n",
              " 'Recollect',\n",
              " 'Millstone']"
            ]
          },
          "metadata": {
            "tags": []
          },
          "execution_count": 55
        }
      ]
    },
    {
      "cell_type": "markdown",
      "metadata": {
        "id": "bY1GVdhp9mQ7"
      },
      "source": [
        "## Exporting the output to a CSV"
      ]
    },
    {
      "cell_type": "code",
      "metadata": {
        "id": "Y3TJZWfb9mQ7"
      },
      "source": [
        "test_dataset = {}\n",
        "test_dataset[\"packs\"] = dataframe_packs_shown_player_onehot_test\n",
        "test_dataset[\"pools\"] = dataframe_pool_at_pick_onehot_test\n",
        "test_dataset[\"picks\"] = dataframe_pick_onehot_test"
      ],
      "execution_count": null,
      "outputs": []
    },
    {
      "cell_type": "code",
      "metadata": {
        "id": "-NRhKI6Q9mQ8"
      },
      "source": [
        "train_dataset = {}\n",
        "train_dataset[\"packs\"] = dataframe_packs_shown_player_onehot_train\n",
        "train_dataset[\"pools\"] = dataframe_pool_at_pick_onehot_train\n",
        "train_dataset[\"picks\"] = dataframe_pick_onehot_train"
      ],
      "execution_count": null,
      "outputs": []
    },
    {
      "cell_type": "code",
      "metadata": {
        "id": "_KTYr2gk9mQ8"
      },
      "source": [
        "card_indexes = {}\n",
        "card_indexes[\"index\"] = card_index\n",
        "card_indexes[\"inverted\"] = card_index_inverted"
      ],
      "execution_count": null,
      "outputs": []
    },
    {
      "cell_type": "code",
      "metadata": {
        "id": "R_Mv_FLG9mQ8"
      },
      "source": [
        "# test_data_save = open(\"/content/gdrive/MyDrive/Colab Notebooks/test_data_save_batch_two\", \"wb\")\n",
        "# pickle.dump(test_dataset, test_data_save)\n",
        "# test_data_save.close()"
      ],
      "execution_count": null,
      "outputs": []
    },
    {
      "cell_type": "code",
      "metadata": {
        "id": "RJNJ91GE9mQ8"
      },
      "source": [
        "# train_data_save = open(\"/content/gdrive/MyDrive/Colab Notebooks/train_data_save_batch_two\", \"wb\")\n",
        "# pickle.dump(train_dataset, train_data_save)\n",
        "# train_data_save.close()"
      ],
      "execution_count": null,
      "outputs": []
    },
    {
      "cell_type": "code",
      "metadata": {
        "id": "CE6F4Hzr9mQ8"
      },
      "source": [
        "# index_data_save = open(\"/content/gdrive/MyDrive/Colab Notebooks/index_data_save\", \"wb\")\n",
        "# pickle.dump(card_indexes, index_data_save)\n",
        "# index_data_save.close()"
      ],
      "execution_count": null,
      "outputs": []
    },
    {
      "cell_type": "code",
      "metadata": {
        "id": "8b2xElxnFqAr"
      },
      "source": [
        ""
      ],
      "execution_count": null,
      "outputs": []
    }
  ]
}